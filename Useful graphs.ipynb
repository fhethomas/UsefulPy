{
 "cells": [
  {
   "cell_type": "code",
   "execution_count": 16,
   "metadata": {},
   "outputs": [],
   "source": [
    "import matplotlib.pyplot as plt\n",
    "import numpy as np\n",
    "import pandas as pd\n",
    "import seaborn as sns\n",
    "import scipy.stats as ss"
   ]
  },
  {
   "cell_type": "code",
   "execution_count": 14,
   "metadata": {},
   "outputs": [],
   "source": [
    "sample_data = np.random.rand(10,2)*10\n",
    "df=pd.DataFrame(sample_data,columns=[\"a\",\"b\"])"
   ]
  },
  {
   "cell_type": "markdown",
   "metadata": {},
   "source": [
    "# Tornado plot"
   ]
  },
  {
   "cell_type": "code",
   "execution_count": 15,
   "metadata": {},
   "outputs": [
    {
     "data": {
      "image/png": "[encoded data removed]",
      "text/plain": [
       "<Figure size 432x288 with 2 Axes>"
      ]
     },
     "metadata": {
      "needs_background": "light"
     },
     "output_type": "display_data"
    }
   ],
   "source": [
    "fig, axes = plt.subplots(ncols=2, sharey=True)\n",
    "axes[0].barh(df.index,df[\"a\"])\n",
    "axes[0].set(title='A')\n",
    "axes[1].barh(df.index,df[\"b\"],color=\"orange\")\n",
    "axes[1].set(title='B')\n",
    "axes[0].set_xlim(0,20)\n",
    "axes[1].set_xlim(0,20)\n",
    "axes[0].invert_xaxis()\n",
    "for x in range(0,2):\n",
    "    axes[x].spines['top'].set_visible(False)\n",
    "    axes[x].spines['right'].set_visible(False)\n",
    "    axes[x].spines['left'].set_visible(False)\n",
    "    axes[x].spines['bottom'].set_visible(False)\n",
    "    axes[x].grid(axis=\"x\")\n",
    "fig.subplots_adjust(wspace=0.0)\n",
    "plt.show()"
   ]
  },
  {
   "cell_type": "markdown",
   "metadata": {},
   "source": [
    "# Box plot"
   ]
  },
  {
   "cell_type": "code",
   "execution_count": 22,
   "metadata": {},
   "outputs": [
    {
     "data": {
      "image/png": "[encoded data removed]",
      "text/plain": [
       "<Figure size 432x288 with 1 Axes>"
      ]
     },
     "metadata": {
      "needs_background": "light"
     },
     "output_type": "display_data"
    }
   ],
   "source": [
    "sample_data = np.round(np.random.rand(50,2)*10,0)\n",
    "df=pd.DataFrame(sample_data,columns=[\"a\",\"b\"])\n",
    "\n",
    "df.insert(loc=0,value=[\"dog\" if x%2==0 else \"cat\" for x in range(df.shape[0])],column=\"animal\")\n",
    "ax=sns.boxplot(x=\"a\", y=\"animal\", data=df,\n",
    "            saturation=0.8,linewidth=0.7, palette=\"Set2\")\n",
    "plt.show()"
   ]
  },
  {
   "cell_type": "code",
   "execution_count": null,
   "metadata": {},
   "outputs": [],
   "source": []
  }
 ],
 "metadata": {
  "kernelspec": {
   "display_name": "Python 3",
   "language": "python",
   "name": "python3"
  },
  "language_info": {
   "codemirror_mode": {
    "name": "ipython",
    "version": 3
   },
   "file_extension": ".py",
   "mimetype": "text/x-python",
   "name": "python",
   "nbconvert_exporter": "python",
   "pygments_lexer": "ipython3",
   "version": "3.8.5"
  }
 },
 "nbformat": 4,
 "nbformat_minor": 4
}
