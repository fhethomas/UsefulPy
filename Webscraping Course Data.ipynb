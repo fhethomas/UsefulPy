{
 "cells": [
  {
   "cell_type": "code",
   "execution_count": 47,
   "id": "ff1d4f36-edae-427c-b882-3093963b49f9",
   "metadata": {},
   "outputs": [
    {
     "name": "stdout",
     "output_type": "stream",
     "text": [
      "Imports loaded\n"
     ]
    }
   ],
   "source": [
    "# Beautiful soup, requests and pandas (pandas used here for csv wrangling)\n",
    "# Beautiful soup, requests and pandas (pandas used here for csv wrangling)\n",
    "import requests\n",
    "from bs4 import BeautifulSoup\n",
    "import pandas as pd\n",
    "import re # needed for regular expression to strip out grammar\n",
    "import json\n",
    "\n",
    "# Selenium imports for automating web browsing\n",
    "from selenium import webdriver\n",
    "from selenium.webdriver.common.by import By\n",
    "from selenium.webdriver.support import expected_conditions as EC\n",
    "from selenium.webdriver.support.ui import WebDriverWait\n",
    "import time\n",
    "\n",
    "ft_folder = 'N:\\\\SRDStaff\\\\GPS\\\\SPI\\\\Insight\\\\Personal Workspace\\\\Frank\\\\Webscraping\\\\'\n",
    "print('Imports loaded')\n",
    "\n",
    "folder_target_str = \"C:\\\\My Computer\\\\\""
   ]
  },
  {
   "cell_type": "markdown",
   "id": "ccd01d36-8820-4723-b9a0-162a5b9a6e8a",
   "metadata": {},
   "source": [
    "# Huddersfield\n",
    "## The home of the infinite scroll...\n",
    "- Had to find the API where it's requesting the data and get from there"
   ]
  },
  {
   "cell_type": "code",
   "execution_count": null,
   "id": "a7de3f5e-2ee9-401c-b876-e4ecbb100f63",
   "metadata": {},
   "outputs": [],
   "source": [
    "# find the url for the json file\n",
    "# Go to develpor mode - open Network and look at Fetch/XHR\n",
    "url = \"https://courses.hud.ac.uk/json/2025-26/sort:title\"\n",
    "response = requests.get(url)\n",
    "if response.status_code == 200:\n",
    "    courses = response.json()\n",
    "    #for course in courses:\n",
    "        #print(course)  # Adjust according to the structure of the response\n",
    "else:\n",
    "    print(f\"Error: {response.status_code}\")"
   ]
  },
  {
   "cell_type": "code",
   "execution_count": null,
   "id": "ae122b29-4447-4639-86e3-e9789da0b69a",
   "metadata": {},
   "outputs": [],
   "source": [
    "# This returns a JSON file that acts like a dictionary\n",
    "year=courses['courses'][0]['year']\n",
    "study_mode=courses['courses'][0]['study_mode']\n",
    "study_level=courses['courses'][0]['study_level']\n",
    "urltitle=courses['courses'][0]['urltitle']\n",
    "'https://courses.hud.ac.uk/'+year +'/'+study_mode+'/'+study_level+'/'+urltitle"
   ]
  },
  {
   "cell_type": "code",
   "execution_count": null,
   "id": "1b713a58-18b9-4f38-9b2f-ed32ed908af5",
   "metadata": {},
   "outputs": [],
   "source": [
    "course_list=[]\n",
    "\n",
    "for i in range(len(courses['courses'])):\n",
    "    year=courses['courses'][i]['year']\n",
    "    study_mode=courses['courses'][i]['study_mode']\n",
    "    study_level=courses['courses'][i]['study_level']\n",
    "    urltitle=courses['courses'][i]['urltitle']\n",
    "    course_title = courses['courses'][i]['title']\n",
    "    href='https://courses.hud.ac.uk/'+year +'/'+study_mode+'/'+study_level+'/'+urltitle\n",
    "    course_list.append([course_title,href])\n",
    "print('course list created')"
   ]
  },
  {
   "cell_type": "markdown",
   "id": "8005b06d-21a1-459e-828c-2b10c0f02655",
   "metadata": {},
   "source": [
    "## University of Lincoln\n",
    "- Selenium used to get course hrefs"
   ]
  },
  {
   "cell_type": "code",
   "execution_count": null,
   "id": "984bb04b-6b45-4242-9b5d-d2ae35450df6",
   "metadata": {},
   "outputs": [],
   "source": [
    "# Initialise Chrome Driver\n",
    "driver = webdriver.Chrome()\n",
    "url='https://www.lincoln.ac.uk/search/?searchStudioQuery=&facetId=courses&isGrid=false&facets=fq%3DsectionType_s%3A%22courses%22&orderBy=&start=0'\n",
    "driver.get(url)\n",
    "driver.implicitly_wait(20)\n",
    "wait = WebDriverWait(driver, 10)  # Timeout after 10 seconds\n",
    "div_class = 'courses' # find a within this\n",
    "course_list = []\n",
    "# next link\n",
    "next_class = \"page-link-searchstudio-js\" # Text contains 'Next'\n",
    "search_results_wrapper = 'search-results-wrapper'\n",
    "# test while loop\n",
    "test_loop = False\n",
    "if test_loop:\n",
    "    total_courses=41\n",
    "else:\n",
    "    total_courses=411\n",
    "# we need to click the next button for a set amount of iterations:\n",
    "i = 1\n",
    "\n",
    "while i<total_courses+10:\n",
    "    time.sleep(10)\n",
    "    div_elements = driver.find_elements(By.CLASS_NAME, div_class)\n",
    "    for div in div_elements:\n",
    "        href = div.find_element(By.TAG_NAME, \"a\")\n",
    "        course_list.append([href.text,href.get_attribute(\"href\")])\n",
    "    # find the next button and click it\n",
    "    link_elements = driver.find_elements(By.CLASS_NAME, next_class)\n",
    "    for link in link_elements:\n",
    "        if 'Next' in link.text:\n",
    "            link.click()\n",
    "    i+=10\n",
    "print('Courses found')"
   ]
  },
  {
   "cell_type": "markdown",
   "id": "fd8a990f-b91e-4d8f-bd04-dd17e28a1210",
   "metadata": {},
   "source": [
    "## Nottingham Trent\n",
    "- A beautiful soup based webscrape"
   ]
  },
  {
   "cell_type": "code",
   "execution_count": 14,
   "id": "5f0ae835-0ff4-40fa-b95e-856a6b74b4bb",
   "metadata": {},
   "outputs": [],
   "source": [
    "def extract_hrefs(url,class_target=\"courseAToZ__list\",print_outputs=False):\n",
    "    \"\"\"\n",
    "    This function is intended to return a list of all hrefs from a particular webpage within a list\n",
    "    Inputs:\n",
    "    url - The target url, str\n",
    "    class_target - the class string which contains the list, str\n",
    "    Output:\n",
    "    output_list - a list [course_name, course_url]\n",
    "    \"\"\"\n",
    "    response = requests.get(url)\n",
    "    html_content = response.text\n",
    "    # Parse the HTML with Beautiful Soup\n",
    "    soup = BeautifulSoup(html_content, \"html.parser\")\n",
    "    # Locate the <ul> element with class \"courseAToZ__list\"\n",
    "    ul_element = soup.find(\"ul\", {\"class\": class_target})\n",
    "    # create output_list\n",
    "    output_list = []\n",
    "    # Ensure the <ul> exists\n",
    "    if ul_element:\n",
    "        # Find all <li> elements within the <ul>\n",
    "        list_items = ul_element.find_all(\"li\")\n",
    "        # Extract and print the text content of each <li>\n",
    "        for li in list_items:\n",
    "            temp_list = []\n",
    "            # get text from list\n",
    "            course_name = li.get_text(strip=True)\n",
    "            temp_list.append(course_name)\n",
    "            if print_outputs:\n",
    "                print(course_name)\n",
    "            a_tag = li.find(\"a\")  # Find the <a> tag inside the <li>\n",
    "            if a_tag:\n",
    "                href = a_tag.get(\"href\")  # Get the href attribute\n",
    "                temp_list.append(href)\n",
    "                if print_outputs:\n",
    "                    print(\"Link:\", href)\n",
    "            output_list.append(temp_list)\n",
    "    else:\n",
    "        print(\"No <ul> with class 'courseAToZ__list' found.\")\n",
    "    return output_list"
   ]
  },
  {
   "cell_type": "code",
   "execution_count": 11,
   "id": "84d50097-3fb1-468e-9491-1104be0526d0",
   "metadata": {},
   "outputs": [],
   "source": [
    "root_url = \"https://www.ntu.ac.uk/study-and-courses/undergraduate/course-a-z?result_1908621_result_page=\"\n",
    "alphabet = list('ABCDEFGHIJKLMNOPQRSTUVWXYZ')"
   ]
  },
  {
   "cell_type": "code",
   "execution_count": 17,
   "id": "89e7ba55-57fd-4283-b14e-6ed89cb57981",
   "metadata": {},
   "outputs": [
    {
     "name": "stdout",
     "output_type": "stream",
     "text": [
      "https://www.ntu.ac.uk/study-and-courses/undergraduate/course-a-z?result_1908621_result_page=A\n",
      "https://www.ntu.ac.uk/study-and-courses/undergraduate/course-a-z?result_1908621_result_page=B\n",
      "https://www.ntu.ac.uk/study-and-courses/undergraduate/course-a-z?result_1908621_result_page=C\n",
      "https://www.ntu.ac.uk/study-and-courses/undergraduate/course-a-z?result_1908621_result_page=D\n",
      "https://www.ntu.ac.uk/study-and-courses/undergraduate/course-a-z?result_1908621_result_page=E\n",
      "https://www.ntu.ac.uk/study-and-courses/undergraduate/course-a-z?result_1908621_result_page=F\n",
      "https://www.ntu.ac.uk/study-and-courses/undergraduate/course-a-z?result_1908621_result_page=G\n",
      "https://www.ntu.ac.uk/study-and-courses/undergraduate/course-a-z?result_1908621_result_page=H\n",
      "https://www.ntu.ac.uk/study-and-courses/undergraduate/course-a-z?result_1908621_result_page=I\n",
      "https://www.ntu.ac.uk/study-and-courses/undergraduate/course-a-z?result_1908621_result_page=J\n",
      "https://www.ntu.ac.uk/study-and-courses/undergraduate/course-a-z?result_1908621_result_page=K\n",
      "https://www.ntu.ac.uk/study-and-courses/undergraduate/course-a-z?result_1908621_result_page=L\n",
      "https://www.ntu.ac.uk/study-and-courses/undergraduate/course-a-z?result_1908621_result_page=M\n",
      "https://www.ntu.ac.uk/study-and-courses/undergraduate/course-a-z?result_1908621_result_page=N\n",
      "https://www.ntu.ac.uk/study-and-courses/undergraduate/course-a-z?result_1908621_result_page=O\n",
      "https://www.ntu.ac.uk/study-and-courses/undergraduate/course-a-z?result_1908621_result_page=P\n",
      "https://www.ntu.ac.uk/study-and-courses/undergraduate/course-a-z?result_1908621_result_page=Q\n",
      "https://www.ntu.ac.uk/study-and-courses/undergraduate/course-a-z?result_1908621_result_page=R\n",
      "https://www.ntu.ac.uk/study-and-courses/undergraduate/course-a-z?result_1908621_result_page=S\n",
      "https://www.ntu.ac.uk/study-and-courses/undergraduate/course-a-z?result_1908621_result_page=T\n",
      "https://www.ntu.ac.uk/study-and-courses/undergraduate/course-a-z?result_1908621_result_page=U\n",
      "https://www.ntu.ac.uk/study-and-courses/undergraduate/course-a-z?result_1908621_result_page=V\n",
      "https://www.ntu.ac.uk/study-and-courses/undergraduate/course-a-z?result_1908621_result_page=W\n",
      "https://www.ntu.ac.uk/study-and-courses/undergraduate/course-a-z?result_1908621_result_page=X\n",
      "https://www.ntu.ac.uk/study-and-courses/undergraduate/course-a-z?result_1908621_result_page=Y\n",
      "https://www.ntu.ac.uk/study-and-courses/undergraduate/course-a-z?result_1908621_result_page=Z\n"
     ]
    }
   ],
   "source": [
    "# Create list of each course that we're going to save\n",
    "final_list = []\n",
    "for a in alphabet:\n",
    "    # create our url from our root_url\n",
    "    url = root_url+a\n",
    "    print(url)\n",
    "    # Call extract_hrefs on our url and add it to our final_list\n",
    "    final_list += extract_hrefs(url,class_target=\"courseAToZ__list\")"
   ]
  },
  {
   "cell_type": "code",
   "execution_count": null,
   "id": "d46394c8-3e0d-4379-ad41-5f77526def5c",
   "metadata": {},
   "outputs": [],
   "source": [
    "df = pd.DataFrame(final_list,columns=['Course_Title','Course_Href'])\n",
    "df.drop_duplicates(inplace=True)\n",
    "output_file_name = 'Nott Trent Course List.csv'\n",
    "df.to_csv(folder_target_str+output_file_name)"
   ]
  },
  {
   "cell_type": "code",
   "execution_count": 38,
   "id": "1ac328e8-32c4-469c-921c-ba60e7c75c1e",
   "metadata": {},
   "outputs": [],
   "source": [
    "def get_href_text(url,class_header_target = 'course-modules__intro',class_div_target = 'course-modules__tab-content'):\n",
    "    \"\"\"\n",
    "    This function get the header elements and module elements of the course\n",
    "    url - The target url, str\n",
    "    class_header_target - the class string which contains the header, str\n",
    "    class_div_target - the class string which contains the module data, str\n",
    "    Output:\n",
    "    output_list - a list [header information, module information]\n",
    "    \"\"\"\n",
    "    response = requests.get(url)\n",
    "    html_content = response.text\n",
    "    # Parse the HTML with Beautiful Soup\n",
    "    soup = BeautifulSoup(html_content, \"html.parser\")\n",
    "    header_element = soup.find(\"header\", {\"class\": class_header_target})\n",
    "    div_element = soup.find(\"div\", {\"class\": class_div_target})\n",
    "    #header_text\n",
    "    if header_element!=None:\n",
    "        header_text= header_element.get_text(strip=True)\n",
    "    else:\n",
    "        header_text='No Value'\n",
    "    #div_text - contains module data\n",
    "    if div_element!=None:\n",
    "        div_text= div_element.get_text(strip=True)\n",
    "    else:\n",
    "        div_text='No Value'\n",
    "    output_list = [header_text,div_text]\n",
    "    return output_list"
   ]
  },
  {
   "cell_type": "markdown",
   "id": "367d2a70-2a06-4267-8178-45414f85f2ed",
   "metadata": {},
   "source": [
    "# Iterate over dataframe and find all module headers and module info"
   ]
  },
  {
   "cell_type": "code",
   "execution_count": 40,
   "id": "7f391bd3-7f20-4e8a-a953-d8c4ca61d5df",
   "metadata": {
    "scrolled": true
   },
   "outputs": [
    {
     "name": "stdout",
     "output_type": "stream",
     "text": [
      "Output created\n"
     ]
    }
   ],
   "source": [
    "# new outputlist we're creating\n",
    "final_list = []\n",
    "# loop through dataframe\n",
    "m,n = df.shape # get the shape of the dataframe\n",
    "for row in range(m):\n",
    "    temp_list = list(df.iloc[row,:])\n",
    "    url = df.iloc[row,1]\n",
    "    temp_list +=get_href_text(url)\n",
    "    final_list.append(temp_list)\n",
    "print('Output created')"
   ]
  },
  {
   "cell_type": "markdown",
   "id": "cf0af437-8687-40ce-b400-98ef607f62ce",
   "metadata": {},
   "source": [
    "# Output to CSV"
   ]
  },
  {
   "cell_type": "code",
   "execution_count": 43,
   "id": "62158598-d852-47d3-a27c-4631bbc092de",
   "metadata": {},
   "outputs": [],
   "source": [
    "df = pd.DataFrame(final_list,columns=['Course_Title','Course_Href','Course Header','Module Info'])\n",
    "df.drop_duplicates(inplace=True)\n",
    "output_file_name = 'Nott Trent Course List.csv'\n",
    "df.to_csv(folder_target_str+output_file_name)"
   ]
  },
  {
   "cell_type": "markdown",
   "id": "44515f0b-9fea-4a8d-8a50-bffd564c389d",
   "metadata": {},
   "source": [
    "# Find only AI related courses"
   ]
  },
  {
   "cell_type": "code",
   "execution_count": 48,
   "id": "3becb86a-89ce-4e06-9410-5dbd50380d0f",
   "metadata": {},
   "outputs": [],
   "source": [
    "# new outputlist we're creating\n",
    "final_list = []\n",
    "# loop through dataframe\n",
    "m,n = df.shape # get the shape of the dataframe\n",
    "for row in range(m):\n",
    "    header_text = df.iloc[row,2].upper()\n",
    "    header_text=re.sub(r\"[^\\w\\s]\", \" \", header_text) # strip out grammar\n",
    "    module_text = df.iloc[row,3].upper()\n",
    "    module_text=re.sub(r\"[^\\w\\s]\", \" \", module_text)\n",
    "    # test for AI or artificial intelligence\n",
    "    if ('AI ' in header_text) or ('AI ' in module_text) or ('ARTIFICIAL INT' in header_text) or ('ARTIFICIAL INT' in module_text):\n",
    "        final_list.append(list(df.iloc[row,:]))"
   ]
  },
  {
   "cell_type": "code",
   "execution_count": 49,
   "id": "5c3eee98-02f3-44b3-bfae-2b25c207678a",
   "metadata": {},
   "outputs": [],
   "source": [
    "ai_df = pd.DataFrame(final_list,columns=['Course_Title','Course_Href','Course Header','Module Info'])\n",
    "output_file_name = 'Nott Trent AI Course List.csv'\n",
    "ai_df.to_csv(folder_target_str+output_file_name)"
   ]
  },
  {
   "cell_type": "code",
   "execution_count": null,
   "id": "41a27beb-17da-4f2b-a2ed-ee5d27c61777",
   "metadata": {},
   "outputs": [],
   "source": []
  },
  {
   "cell_type": "code",
   "execution_count": null,
   "id": "2a4ee318-cfc0-482b-a9db-1926304b6d98",
   "metadata": {},
   "outputs": [],
   "source": [
    "# get all post-grad areas\n",
    "div_class = \"component__container\"\n"
   ]
  },
  {
   "cell_type": "code",
   "execution_count": null,
   "id": "5c7cc664-3c1b-49cd-9c70-f89c400f1628",
   "metadata": {},
   "outputs": [],
   "source": []
  }
 ],
 "metadata": {
  "kernelspec": {
   "display_name": "Python 3 (ipykernel)",
   "language": "python",
   "name": "python3"
  },
  "language_info": {
   "codemirror_mode": {
    "name": "ipython",
    "version": 3
   },
   "file_extension": ".py",
   "mimetype": "text/x-python",
   "name": "python",
   "nbconvert_exporter": "python",
   "pygments_lexer": "ipython3",
   "version": "3.11.9"
  }
 },
 "nbformat": 4,
 "nbformat_minor": 5
}
