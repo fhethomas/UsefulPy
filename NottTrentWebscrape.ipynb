# Beautiful soup, requests and pandas (pandas used here for csv wrangling)
import requests
from bs4 import BeautifulSoup
import pandas as pd
import re # needed for regular expression to strip out grammar


