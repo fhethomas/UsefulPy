{
 "cells": [
  {
   "cell_type": "code",
   "execution_count": null,
   "id": "18e381f9",
   "metadata": {},
   "outputs": [],
   "source": [
    "import os\n",
    "target_dir = 'F:\\\\MyWork\\\\'\n",
    "os.chdir(target_dir)\n",
    "print('Current Working Directory: {0}'.format(os.getcwd()))\n",
    "#conver_f = 1048576\n",
    "conver_f = 1000000\n",
    "for path, dirs, files in os.walk(os.getcwd()):\n",
    "    size=0\n",
    "    for f in files:\n",
    "        fp=os.path.join(path,f)\n",
    "        size+=os.path.getsize(fp)\n",
    "        mb = size/conver_f\n",
    "    if mb>1:\n",
    "        print('{0} {1}. \\nSize: {2}MB'.format(path,dirs,mb))"
   ]
  },
  {
   "cell_type": "code",
   "execution_count": null,
   "id": "600c4a99",
   "metadata": {},
   "outputs": [],
   "source": []
  }
 ],
 "metadata": {
  "kernelspec": {
   "display_name": "Python 3 (ipykernel)",
   "language": "python",
   "name": "python3"
  },
  "language_info": {
   "codemirror_mode": {
    "name": "ipython",
    "version": 3
   },
   "file_extension": ".py",
   "mimetype": "text/x-python",
   "name": "python",
   "nbconvert_exporter": "python",
   "pygments_lexer": "ipython3",
   "version": "3.11.9"
  }
 },
 "nbformat": 4,
 "nbformat_minor": 5
}
