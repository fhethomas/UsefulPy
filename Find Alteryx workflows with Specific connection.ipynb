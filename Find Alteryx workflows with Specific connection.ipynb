{
 "cells": [
  {
   "cell_type": "markdown",
   "id": "6c92e2b1-8e08-454b-bdfe-f294537c9efb",
   "metadata": {},
   "source": [
    "# Imports"
   ]
  },
  {
   "cell_type": "code",
   "execution_count": null,
   "id": "e6dad4de-a10f-4b6b-9952-34a38022c04f",
   "metadata": {},
   "outputs": [],
   "source": [
    "import os\n",
    "import xml.etree.ElementTree as ET\n",
    "import pandas as pd\n",
    "\n",
    "directory_path = \"C:\\\\My Computer\""
   ]
  },
  {
   "cell_type": "markdown",
   "id": "1635ac2f-3838-4a69-9090-a99229ba02e6",
   "metadata": {},
   "source": [
    "# List All Alteryx files"
   ]
  },
  {
   "cell_type": "code",
   "execution_count": 2,
   "id": "b1754b41-3557-477d-83c1-72b28f65407f",
   "metadata": {},
   "outputs": [],
   "source": [
    "def folder_finder(folder):\n",
    "    out_folder = []\n",
    "    try:\n",
    "        file_list = os.listdir(folder)\n",
    "        #print(folder)\n",
    "        for f in file_list:\n",
    "            curr_file = folder+'\\\\'+f\n",
    "            if os.path.isdir(curr_file):\n",
    "                out_folder+=folder_finder(curr_file)\n",
    "            else:\n",
    "                if curr_file[-4:]=='yxmd' or curr_file[-4:]=='yxmc':\n",
    "                    out_folder.append(curr_file)\n",
    "    except:\n",
    "        pass\n",
    "    return out_folder"
   ]
  },
  {
   "cell_type": "code",
   "execution_count": 3,
   "id": "a71def31-4940-4d10-947f-ab73df0b0004",
   "metadata": {},
   "outputs": [
    {
     "name": "stdout",
     "output_type": "stream",
     "text": [
      "file list created\n"
     ]
    }
   ],
   "source": [
    "folder=directory_path+'\\\\Staff'\n",
    "file_list = folder_finder(folder)\n",
    "print('file list created')"
   ]
  },
  {
   "cell_type": "markdown",
   "id": "6372cbe1-ab4a-4b2e-b462-49c327d8fc67",
   "metadata": {},
   "source": [
    "# Find files Using specific table"
   ]
  },
  {
   "cell_type": "code",
   "execution_count": null,
   "id": "caa399a2-c36a-4599-9449-0c3729299d24",
   "metadata": {},
   "outputs": [],
   "source": [
    "found_lst = []\n",
    "\n",
    "connection_str='DSN=ExampleDSN;UID=ExampleUID;PWD=ExamplePwd'\n",
    "connection_str=connection_str.upper()\n",
    "\n",
    "for f in file_list:\n",
    "    try:\n",
    "        tree = ET.parse(f)\n",
    "    except:\n",
    "        print('Parse Error: {0}'.format(f))\n",
    "    root = tree.getroot()\n",
    "    using_connection = False\n",
    "    for elem in root.iter():\n",
    "            try:\n",
    "                if connection_str in elem.text.upper():\n",
    "                    using_connection=True\n",
    "                    break\n",
    "            except:\n",
    "                pass\n",
    "    if using_connection==True:\n",
    "        found_lst.append(f)\n",
    "    \n",
    "print('Created list of files using: '+connection_str)"
   ]
  },
  {
   "cell_type": "code",
   "execution_count": null,
   "id": "155e38f3-b9d5-4f92-9e0b-3a7f06841f9e",
   "metadata": {},
   "outputs": [],
   "source": [
    "df = pd.DataFrame(found_lst,columns=['FilePath'])\n",
    "df.to_csv(directory_path+'\\\\Using Connection.csv')"
   ]
  },
  {
   "cell_type": "code",
   "execution_count": null,
   "id": "8a0e84b7-b639-44e4-a070-05664777f940",
   "metadata": {},
   "outputs": [],
   "source": []
  }
 ],
 "metadata": {
  "kernelspec": {
   "display_name": "Python 3 (ipykernel)",
   "language": "python",
   "name": "python3"
  },
  "language_info": {
   "codemirror_mode": {
    "name": "ipython",
    "version": 3
   },
   "file_extension": ".py",
   "mimetype": "text/x-python",
   "name": "python",
   "nbconvert_exporter": "python",
   "pygments_lexer": "ipython3",
   "version": "3.11.9"
  }
 },
 "nbformat": 4,
 "nbformat_minor": 5
}
